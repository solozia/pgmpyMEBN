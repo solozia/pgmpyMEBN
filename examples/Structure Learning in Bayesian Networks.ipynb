{
 "cells": [
  {
   "cell_type": "markdown",
   "metadata": {},
   "source": [
    "In this notebook, we show examples for using the Structure Learning Algorithms in pgmpy. Currently, pgmpy has implementation of 3 main algorithms:\n",
    "1. PC with stable and parallel variants.\n",
    "2. Hill-Climb Search\n",
    "3. Exhaustive Search\n",
    "\n",
    "For PC the following conditional independence test can be used:\n",
    "1. Chi-Square test\n",
    "2. Pearsonr\n",
    "\n",
    "For Hill-Climb and Exhausitive Search the following scoring methods can be used:\n",
    "1. K2 Score\n",
    "2. BDeu Score\n",
    "3. Bic Score"
   ]
  },
  {
   "cell_type": "markdown",
   "metadata": {},
   "source": [
    "## Generate some data"
   ]
  },
  {
   "cell_type": "code",
   "execution_count": 7,
   "metadata": {},
   "outputs": [],
   "source": [
    "from itertools import combinations\n",
    "\n",
    "from pgmpy.estimators import PC, HillClimbSearch, ExhaustiveSearch\n",
    "from pgmpy.estimators import K2Score\n",
    "from pgmpy.utils import get_example_model\n",
    "from pgmpy.sampling import BayesianModelSampling"
   ]
  },
  {
   "cell_type": "code",
   "execution_count": 2,
   "metadata": {},
   "outputs": [
    {
     "name": "stderr",
     "output_type": "stream",
     "text": [
      "Generating for node: VENTMACH:   0%|          | 0/37 [00:00<?, ?it/s] /home/ankur/pgmpy/examples/pgmpy/factors/discrete/DiscreteFactor.py:437: UserWarning: Found unknown state name. Trying to switch to using all state names as state numbers\n",
      "  \"Found unknown state name. Trying to switch to using all state names as state numbers\"\n",
      "Generating for node: CVP: 100%|██████████| 37/37 [01:25<00:00,  2.32s/it]         \n"
     ]
    },
    {
     "data": {
      "text/html": [
       "<div>\n",
       "<style scoped>\n",
       "    .dataframe tbody tr th:only-of-type {\n",
       "        vertical-align: middle;\n",
       "    }\n",
       "\n",
       "    .dataframe tbody tr th {\n",
       "        vertical-align: top;\n",
       "    }\n",
       "\n",
       "    .dataframe thead th {\n",
       "        text-align: right;\n",
       "    }\n",
       "</style>\n",
       "<table border=\"1\" class=\"dataframe\">\n",
       "  <thead>\n",
       "    <tr style=\"text-align: right;\">\n",
       "      <th></th>\n",
       "      <th>MINVOLSET</th>\n",
       "      <th>VENTMACH</th>\n",
       "      <th>DISCONNECT</th>\n",
       "      <th>VENTTUBE</th>\n",
       "      <th>INTUBATION</th>\n",
       "      <th>PULMEMBOLUS</th>\n",
       "      <th>SHUNT</th>\n",
       "      <th>PAP</th>\n",
       "      <th>FIO2</th>\n",
       "      <th>KINKEDTUBE</th>\n",
       "      <th>...</th>\n",
       "      <th>HRBP</th>\n",
       "      <th>LVFAILURE</th>\n",
       "      <th>HISTORY</th>\n",
       "      <th>HYPOVOLEMIA</th>\n",
       "      <th>STROKEVOLUME</th>\n",
       "      <th>CO</th>\n",
       "      <th>BP</th>\n",
       "      <th>LVEDVOLUME</th>\n",
       "      <th>PCWP</th>\n",
       "      <th>CVP</th>\n",
       "    </tr>\n",
       "  </thead>\n",
       "  <tbody>\n",
       "    <tr>\n",
       "      <th>0</th>\n",
       "      <td>NORMAL</td>\n",
       "      <td>NORMAL</td>\n",
       "      <td>FALSE</td>\n",
       "      <td>LOW</td>\n",
       "      <td>NORMAL</td>\n",
       "      <td>FALSE</td>\n",
       "      <td>NORMAL</td>\n",
       "      <td>NORMAL</td>\n",
       "      <td>NORMAL</td>\n",
       "      <td>FALSE</td>\n",
       "      <td>...</td>\n",
       "      <td>HIGH</td>\n",
       "      <td>FALSE</td>\n",
       "      <td>FALSE</td>\n",
       "      <td>FALSE</td>\n",
       "      <td>NORMAL</td>\n",
       "      <td>HIGH</td>\n",
       "      <td>HIGH</td>\n",
       "      <td>NORMAL</td>\n",
       "      <td>NORMAL</td>\n",
       "      <td>NORMAL</td>\n",
       "    </tr>\n",
       "    <tr>\n",
       "      <th>1</th>\n",
       "      <td>NORMAL</td>\n",
       "      <td>NORMAL</td>\n",
       "      <td>FALSE</td>\n",
       "      <td>LOW</td>\n",
       "      <td>NORMAL</td>\n",
       "      <td>FALSE</td>\n",
       "      <td>NORMAL</td>\n",
       "      <td>NORMAL</td>\n",
       "      <td>NORMAL</td>\n",
       "      <td>FALSE</td>\n",
       "      <td>...</td>\n",
       "      <td>HIGH</td>\n",
       "      <td>FALSE</td>\n",
       "      <td>FALSE</td>\n",
       "      <td>FALSE</td>\n",
       "      <td>NORMAL</td>\n",
       "      <td>NORMAL</td>\n",
       "      <td>LOW</td>\n",
       "      <td>NORMAL</td>\n",
       "      <td>NORMAL</td>\n",
       "      <td>NORMAL</td>\n",
       "    </tr>\n",
       "    <tr>\n",
       "      <th>2</th>\n",
       "      <td>NORMAL</td>\n",
       "      <td>NORMAL</td>\n",
       "      <td>FALSE</td>\n",
       "      <td>LOW</td>\n",
       "      <td>NORMAL</td>\n",
       "      <td>FALSE</td>\n",
       "      <td>NORMAL</td>\n",
       "      <td>NORMAL</td>\n",
       "      <td>NORMAL</td>\n",
       "      <td>FALSE</td>\n",
       "      <td>...</td>\n",
       "      <td>HIGH</td>\n",
       "      <td>FALSE</td>\n",
       "      <td>FALSE</td>\n",
       "      <td>FALSE</td>\n",
       "      <td>NORMAL</td>\n",
       "      <td>HIGH</td>\n",
       "      <td>HIGH</td>\n",
       "      <td>NORMAL</td>\n",
       "      <td>NORMAL</td>\n",
       "      <td>NORMAL</td>\n",
       "    </tr>\n",
       "    <tr>\n",
       "      <th>3</th>\n",
       "      <td>NORMAL</td>\n",
       "      <td>NORMAL</td>\n",
       "      <td>FALSE</td>\n",
       "      <td>LOW</td>\n",
       "      <td>NORMAL</td>\n",
       "      <td>FALSE</td>\n",
       "      <td>NORMAL</td>\n",
       "      <td>NORMAL</td>\n",
       "      <td>NORMAL</td>\n",
       "      <td>FALSE</td>\n",
       "      <td>...</td>\n",
       "      <td>HIGH</td>\n",
       "      <td>FALSE</td>\n",
       "      <td>FALSE</td>\n",
       "      <td>FALSE</td>\n",
       "      <td>NORMAL</td>\n",
       "      <td>HIGH</td>\n",
       "      <td>HIGH</td>\n",
       "      <td>NORMAL</td>\n",
       "      <td>NORMAL</td>\n",
       "      <td>NORMAL</td>\n",
       "    </tr>\n",
       "    <tr>\n",
       "      <th>4</th>\n",
       "      <td>NORMAL</td>\n",
       "      <td>NORMAL</td>\n",
       "      <td>FALSE</td>\n",
       "      <td>LOW</td>\n",
       "      <td>NORMAL</td>\n",
       "      <td>FALSE</td>\n",
       "      <td>NORMAL</td>\n",
       "      <td>NORMAL</td>\n",
       "      <td>NORMAL</td>\n",
       "      <td>FALSE</td>\n",
       "      <td>...</td>\n",
       "      <td>HIGH</td>\n",
       "      <td>FALSE</td>\n",
       "      <td>FALSE</td>\n",
       "      <td>FALSE</td>\n",
       "      <td>NORMAL</td>\n",
       "      <td>HIGH</td>\n",
       "      <td>HIGH</td>\n",
       "      <td>NORMAL</td>\n",
       "      <td>NORMAL</td>\n",
       "      <td>NORMAL</td>\n",
       "    </tr>\n",
       "  </tbody>\n",
       "</table>\n",
       "<p>5 rows × 37 columns</p>\n",
       "</div>"
      ],
      "text/plain": [
       "  MINVOLSET VENTMACH DISCONNECT VENTTUBE INTUBATION PULMEMBOLUS   SHUNT  \\\n",
       "0    NORMAL   NORMAL      FALSE      LOW     NORMAL       FALSE  NORMAL   \n",
       "1    NORMAL   NORMAL      FALSE      LOW     NORMAL       FALSE  NORMAL   \n",
       "2    NORMAL   NORMAL      FALSE      LOW     NORMAL       FALSE  NORMAL   \n",
       "3    NORMAL   NORMAL      FALSE      LOW     NORMAL       FALSE  NORMAL   \n",
       "4    NORMAL   NORMAL      FALSE      LOW     NORMAL       FALSE  NORMAL   \n",
       "\n",
       "      PAP    FIO2 KINKEDTUBE  ...  HRBP LVFAILURE HISTORY HYPOVOLEMIA  \\\n",
       "0  NORMAL  NORMAL      FALSE  ...  HIGH     FALSE   FALSE       FALSE   \n",
       "1  NORMAL  NORMAL      FALSE  ...  HIGH     FALSE   FALSE       FALSE   \n",
       "2  NORMAL  NORMAL      FALSE  ...  HIGH     FALSE   FALSE       FALSE   \n",
       "3  NORMAL  NORMAL      FALSE  ...  HIGH     FALSE   FALSE       FALSE   \n",
       "4  NORMAL  NORMAL      FALSE  ...  HIGH     FALSE   FALSE       FALSE   \n",
       "\n",
       "  STROKEVOLUME      CO    BP LVEDVOLUME    PCWP     CVP  \n",
       "0       NORMAL    HIGH  HIGH     NORMAL  NORMAL  NORMAL  \n",
       "1       NORMAL  NORMAL   LOW     NORMAL  NORMAL  NORMAL  \n",
       "2       NORMAL    HIGH  HIGH     NORMAL  NORMAL  NORMAL  \n",
       "3       NORMAL    HIGH  HIGH     NORMAL  NORMAL  NORMAL  \n",
       "4       NORMAL    HIGH  HIGH     NORMAL  NORMAL  NORMAL  \n",
       "\n",
       "[5 rows x 37 columns]"
      ]
     },
     "execution_count": 2,
     "metadata": {},
     "output_type": "execute_result"
    }
   ],
   "source": [
    "model = get_example_model('alarm')\n",
    "samples = BayesianModelSampling(model).forward_sample(size=int(1e5))\n",
    "samples.head()"
   ]
  },
  {
   "cell_type": "code",
   "execution_count": 3,
   "metadata": {},
   "outputs": [],
   "source": [
    "# Funtion to evaluate the learned model structures.\n",
    "\n",
    "def score(estimated_model, true_model):\n",
    "    tp = 0\n",
    "    fn = 0\n",
    "    fp = 0\n",
    "    tn = 0\n",
    "\n",
    "    for edge in combinations(true_model.nodes(), 2):\n",
    "        if (edge in estimated_model.edges()) and (edge in true_model.edges()):\n",
    "            tp += 1\n",
    "        elif (edge in estimated_model.edges()) and (not (edge in true_model.edges())):\n",
    "            fp += 1\n",
    "        elif (not(edge in estimated_model.edges())) and (edge in true_model.edges()):\n",
    "            fn += 1\n",
    "        elif (not(edge in estimated_model.edges())) and (not(edge in true_model.edges())):\n",
    "            tn += 1\n",
    "    print(f\"Total: {tp+fn+fp+tn}. True-positive: {tp}, False-Negative: {fn}, False-Positive: {fp}, True-Negative: {tn}\")\n",
    "    print(f\"Edge accuracy: {(tp+tn)/(tp+fn+fp+tn)}\")"
   ]
  },
  {
   "cell_type": "markdown",
   "metadata": {},
   "source": [
    "## Learn the model structure using PC"
   ]
  },
  {
   "cell_type": "code",
   "execution_count": 4,
   "metadata": {},
   "outputs": [
    {
     "name": "stderr",
     "output_type": "stream",
     "text": [
      "4it [04:05, 47.02s/it]/home/ankur/pgmpy/examples/pgmpy/estimators/PC.py:364: UserWarning: Reached maximum number of allowed conditional variables. Exiting\n",
      "  warn(\"Reached maximum number of allowed conditional variables. Exiting\")\n",
      "7it [04:26, 38.14s/it]"
     ]
    },
    {
     "name": "stdout",
     "output_type": "stream",
     "text": [
      "Total: 666. True-positive: 25, False-Negative: 4, False-Positive: 5, True-Negative: 632\n",
      "Edge accuracy: 0.9864864864864865\n"
     ]
    },
    {
     "name": "stderr",
     "output_type": "stream",
     "text": [
      "\n",
      "/home/ankur/pgmpy/examples/pgmpy/base/DAG.py:861: UserWarning: PDAG has no faithful extension (= no oriented DAG with the same v-structures as PDAG). Remaining undirected PDAG edges oriented arbitrarily.\n",
      "  + \"oriented arbitrarily.\"\n"
     ]
    }
   ],
   "source": [
    "est = PC(data=samples)\n",
    "estimated_model = est.estimate(variant='stable', max_cond_vars=4)\n",
    "score(estimated_model, model)"
   ]
  },
  {
   "cell_type": "code",
   "execution_count": 5,
   "metadata": {},
   "outputs": [
    {
     "name": "stderr",
     "output_type": "stream",
     "text": [
      "7it [03:16, 28.08s/it]"
     ]
    },
    {
     "name": "stdout",
     "output_type": "stream",
     "text": [
      "Total: 666. True-positive: 24, False-Negative: 5, False-Positive: 5, True-Negative: 632\n",
      "Edge accuracy: 0.984984984984985\n"
     ]
    },
    {
     "name": "stderr",
     "output_type": "stream",
     "text": [
      "\n"
     ]
    }
   ],
   "source": [
    "est = PC(data=samples)\n",
    "estimated_model = est.estimate(variant='orig', max_cond_vars=4)\n",
    "score(estimated_model, model)"
   ]
  },
  {
   "cell_type": "markdown",
   "metadata": {},
   "source": [
    "## Learn the model structure using Hill-Climb Search"
   ]
  },
  {
   "cell_type": "code",
   "execution_count": 10,
   "metadata": {},
   "outputs": [
    {
     "name": "stdout",
     "output_type": "stream",
     "text": [
      "Total: 666. True-positive: 17, False-Negative: 12, False-Positive: 9, True-Negative: 628\n",
      "Edge accuracy: 0.9684684684684685\n"
     ]
    }
   ],
   "source": [
    "scoring_method = K2Score(data=samples)\n",
    "est = HillClimbSearch(data=samples, scoring_method=scoring_method)\n",
    "estimated_model = est.estimate(max_indegree=4, max_iter=int(1e4))\n",
    "score(estimated_model, model)"
   ]
  }
 ],
 "metadata": {
  "kernelspec": {
   "display_name": "Python 3",
   "language": "python",
   "name": "python3"
  },
  "language_info": {
   "codemirror_mode": {
    "name": "ipython",
    "version": 3
   },
   "file_extension": ".py",
   "mimetype": "text/x-python",
   "name": "python",
   "nbconvert_exporter": "python",
   "pygments_lexer": "ipython3",
   "version": "3.6.10"
  }
 },
 "nbformat": 4,
 "nbformat_minor": 4
}
