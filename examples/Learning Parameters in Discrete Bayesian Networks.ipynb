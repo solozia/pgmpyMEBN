{
 "cells": [
  {
   "cell_type": "markdown",
   "metadata": {},
   "source": [
    "In this notebook, we show an example for learning the parameters (CPDs) of a Discrete Bayesian Network given the data and the model structure. pgmpy has two main methods for learning the parameters:\n",
    "1. MaximumLikelihood Estimator (pgmpy.estimators.MaximumLikelihoodEstimator)\n",
    "2. Bayesian Estimator (pgmpy.estimators.BayesianEstimator)\n",
    "\n",
    "In the examples, we will try to generate some data from given models and then try to learn the model parameters back from the generated data."
   ]
  },
  {
   "cell_type": "markdown",
   "metadata": {},
   "source": [
    "### Step 1: Generate some data"
   ]
  },
  {
   "cell_type": "code",
   "execution_count": 1,
   "metadata": {},
   "outputs": [
    {
     "name": "stderr",
     "output_type": "stream",
     "text": [
      "Generating for node: VENTMACH:   0%|          | 0/37 [00:00<?, ?it/s] /home/ankur/pgmpy/examples/pgmpy/factors/discrete/DiscreteFactor.py:437: UserWarning: Found unknown state name. Trying to switch to using all state names as state numbers\n",
      "  \"Found unknown state name. Trying to switch to using all state names as state numbers\"\n",
      "Generating for node: CVP: 100%|██████████| 37/37 [01:23<00:00,  2.27s/it]         \n"
     ]
    },
    {
     "data": {
      "text/html": [
       "<div>\n",
       "<style scoped>\n",
       "    .dataframe tbody tr th:only-of-type {\n",
       "        vertical-align: middle;\n",
       "    }\n",
       "\n",
       "    .dataframe tbody tr th {\n",
       "        vertical-align: top;\n",
       "    }\n",
       "\n",
       "    .dataframe thead th {\n",
       "        text-align: right;\n",
       "    }\n",
       "</style>\n",
       "<table border=\"1\" class=\"dataframe\">\n",
       "  <thead>\n",
       "    <tr style=\"text-align: right;\">\n",
       "      <th></th>\n",
       "      <th>MINVOLSET</th>\n",
       "      <th>VENTMACH</th>\n",
       "      <th>DISCONNECT</th>\n",
       "      <th>VENTTUBE</th>\n",
       "      <th>INTUBATION</th>\n",
       "      <th>PULMEMBOLUS</th>\n",
       "      <th>SHUNT</th>\n",
       "      <th>PAP</th>\n",
       "      <th>FIO2</th>\n",
       "      <th>KINKEDTUBE</th>\n",
       "      <th>...</th>\n",
       "      <th>HRBP</th>\n",
       "      <th>LVFAILURE</th>\n",
       "      <th>HISTORY</th>\n",
       "      <th>HYPOVOLEMIA</th>\n",
       "      <th>STROKEVOLUME</th>\n",
       "      <th>CO</th>\n",
       "      <th>BP</th>\n",
       "      <th>LVEDVOLUME</th>\n",
       "      <th>PCWP</th>\n",
       "      <th>CVP</th>\n",
       "    </tr>\n",
       "  </thead>\n",
       "  <tbody>\n",
       "    <tr>\n",
       "      <th>0</th>\n",
       "      <td>NORMAL</td>\n",
       "      <td>NORMAL</td>\n",
       "      <td>FALSE</td>\n",
       "      <td>LOW</td>\n",
       "      <td>ESOPHAGEAL</td>\n",
       "      <td>FALSE</td>\n",
       "      <td>NORMAL</td>\n",
       "      <td>NORMAL</td>\n",
       "      <td>NORMAL</td>\n",
       "      <td>FALSE</td>\n",
       "      <td>...</td>\n",
       "      <td>LOW</td>\n",
       "      <td>FALSE</td>\n",
       "      <td>FALSE</td>\n",
       "      <td>TRUE</td>\n",
       "      <td>NORMAL</td>\n",
       "      <td>LOW</td>\n",
       "      <td>LOW</td>\n",
       "      <td>NORMAL</td>\n",
       "      <td>NORMAL</td>\n",
       "      <td>NORMAL</td>\n",
       "    </tr>\n",
       "    <tr>\n",
       "      <th>1</th>\n",
       "      <td>NORMAL</td>\n",
       "      <td>NORMAL</td>\n",
       "      <td>FALSE</td>\n",
       "      <td>LOW</td>\n",
       "      <td>NORMAL</td>\n",
       "      <td>FALSE</td>\n",
       "      <td>NORMAL</td>\n",
       "      <td>NORMAL</td>\n",
       "      <td>NORMAL</td>\n",
       "      <td>FALSE</td>\n",
       "      <td>...</td>\n",
       "      <td>LOW</td>\n",
       "      <td>FALSE</td>\n",
       "      <td>FALSE</td>\n",
       "      <td>FALSE</td>\n",
       "      <td>NORMAL</td>\n",
       "      <td>NORMAL</td>\n",
       "      <td>LOW</td>\n",
       "      <td>NORMAL</td>\n",
       "      <td>NORMAL</td>\n",
       "      <td>NORMAL</td>\n",
       "    </tr>\n",
       "    <tr>\n",
       "      <th>2</th>\n",
       "      <td>NORMAL</td>\n",
       "      <td>NORMAL</td>\n",
       "      <td>FALSE</td>\n",
       "      <td>LOW</td>\n",
       "      <td>ESOPHAGEAL</td>\n",
       "      <td>FALSE</td>\n",
       "      <td>NORMAL</td>\n",
       "      <td>NORMAL</td>\n",
       "      <td>NORMAL</td>\n",
       "      <td>FALSE</td>\n",
       "      <td>...</td>\n",
       "      <td>NORMAL</td>\n",
       "      <td>FALSE</td>\n",
       "      <td>FALSE</td>\n",
       "      <td>FALSE</td>\n",
       "      <td>NORMAL</td>\n",
       "      <td>HIGH</td>\n",
       "      <td>HIGH</td>\n",
       "      <td>NORMAL</td>\n",
       "      <td>NORMAL</td>\n",
       "      <td>NORMAL</td>\n",
       "    </tr>\n",
       "    <tr>\n",
       "      <th>3</th>\n",
       "      <td>NORMAL</td>\n",
       "      <td>NORMAL</td>\n",
       "      <td>FALSE</td>\n",
       "      <td>LOW</td>\n",
       "      <td>NORMAL</td>\n",
       "      <td>FALSE</td>\n",
       "      <td>NORMAL</td>\n",
       "      <td>NORMAL</td>\n",
       "      <td>NORMAL</td>\n",
       "      <td>FALSE</td>\n",
       "      <td>...</td>\n",
       "      <td>HIGH</td>\n",
       "      <td>FALSE</td>\n",
       "      <td>FALSE</td>\n",
       "      <td>FALSE</td>\n",
       "      <td>NORMAL</td>\n",
       "      <td>HIGH</td>\n",
       "      <td>HIGH</td>\n",
       "      <td>NORMAL</td>\n",
       "      <td>NORMAL</td>\n",
       "      <td>NORMAL</td>\n",
       "    </tr>\n",
       "    <tr>\n",
       "      <th>4</th>\n",
       "      <td>NORMAL</td>\n",
       "      <td>NORMAL</td>\n",
       "      <td>FALSE</td>\n",
       "      <td>LOW</td>\n",
       "      <td>NORMAL</td>\n",
       "      <td>FALSE</td>\n",
       "      <td>NORMAL</td>\n",
       "      <td>HIGH</td>\n",
       "      <td>NORMAL</td>\n",
       "      <td>FALSE</td>\n",
       "      <td>...</td>\n",
       "      <td>HIGH</td>\n",
       "      <td>FALSE</td>\n",
       "      <td>FALSE</td>\n",
       "      <td>FALSE</td>\n",
       "      <td>NORMAL</td>\n",
       "      <td>HIGH</td>\n",
       "      <td>HIGH</td>\n",
       "      <td>NORMAL</td>\n",
       "      <td>NORMAL</td>\n",
       "      <td>NORMAL</td>\n",
       "    </tr>\n",
       "  </tbody>\n",
       "</table>\n",
       "<p>5 rows × 37 columns</p>\n",
       "</div>"
      ],
      "text/plain": [
       "  MINVOLSET VENTMACH DISCONNECT VENTTUBE  INTUBATION PULMEMBOLUS   SHUNT  \\\n",
       "0    NORMAL   NORMAL      FALSE      LOW  ESOPHAGEAL       FALSE  NORMAL   \n",
       "1    NORMAL   NORMAL      FALSE      LOW      NORMAL       FALSE  NORMAL   \n",
       "2    NORMAL   NORMAL      FALSE      LOW  ESOPHAGEAL       FALSE  NORMAL   \n",
       "3    NORMAL   NORMAL      FALSE      LOW      NORMAL       FALSE  NORMAL   \n",
       "4    NORMAL   NORMAL      FALSE      LOW      NORMAL       FALSE  NORMAL   \n",
       "\n",
       "      PAP    FIO2 KINKEDTUBE  ...    HRBP LVFAILURE HISTORY HYPOVOLEMIA  \\\n",
       "0  NORMAL  NORMAL      FALSE  ...     LOW     FALSE   FALSE        TRUE   \n",
       "1  NORMAL  NORMAL      FALSE  ...     LOW     FALSE   FALSE       FALSE   \n",
       "2  NORMAL  NORMAL      FALSE  ...  NORMAL     FALSE   FALSE       FALSE   \n",
       "3  NORMAL  NORMAL      FALSE  ...    HIGH     FALSE   FALSE       FALSE   \n",
       "4    HIGH  NORMAL      FALSE  ...    HIGH     FALSE   FALSE       FALSE   \n",
       "\n",
       "  STROKEVOLUME      CO    BP LVEDVOLUME    PCWP     CVP  \n",
       "0       NORMAL     LOW   LOW     NORMAL  NORMAL  NORMAL  \n",
       "1       NORMAL  NORMAL   LOW     NORMAL  NORMAL  NORMAL  \n",
       "2       NORMAL    HIGH  HIGH     NORMAL  NORMAL  NORMAL  \n",
       "3       NORMAL    HIGH  HIGH     NORMAL  NORMAL  NORMAL  \n",
       "4       NORMAL    HIGH  HIGH     NORMAL  NORMAL  NORMAL  \n",
       "\n",
       "[5 rows x 37 columns]"
      ]
     },
     "execution_count": 1,
     "metadata": {},
     "output_type": "execute_result"
    }
   ],
   "source": [
    "# Use the alarm model to generate data from it.\n",
    "\n",
    "from pgmpy.utils import get_example_model\n",
    "from pgmpy.sampling import BayesianModelSampling\n",
    "\n",
    "alarm_model = get_example_model('alarm')\n",
    "samples = BayesianModelSampling(alarm_model).forward_sample(size=int(1e5))\n",
    "samples.head()"
   ]
  },
  {
   "cell_type": "markdown",
   "metadata": {},
   "source": [
    "### Step 2: Define a model structure\n",
    "\n",
    "In this case, since we are trying to learn the model parameters back we will use the model structure that we used to generate the data from."
   ]
  },
  {
   "cell_type": "code",
   "execution_count": 2,
   "metadata": {},
   "outputs": [
    {
     "data": {
      "text/plain": [
       "NodeView(('HYPOVOLEMIA', 'LVEDVOLUME', 'STROKEVOLUME', 'CVP', 'PCWP', 'LVFAILURE', 'HISTORY', 'CO', 'ERRLOWOUTPUT', 'HRBP', 'ERRCAUTER', 'HREKG', 'HRSAT', 'INSUFFANESTH', 'CATECHOL', 'ANAPHYLAXIS', 'TPR', 'BP', 'KINKEDTUBE', 'PRESS', 'VENTLUNG', 'FIO2', 'PVSAT', 'SAO2', 'PULMEMBOLUS', 'PAP', 'SHUNT', 'INTUBATION', 'MINVOL', 'VENTALV', 'DISCONNECT', 'VENTTUBE', 'MINVOLSET', 'VENTMACH', 'EXPCO2', 'ARTCO2', 'HR'))"
      ]
     },
     "execution_count": 2,
     "metadata": {},
     "output_type": "execute_result"
    }
   ],
   "source": [
    "# Defining the Bayesian Model structure\n",
    "\n",
    "from pgmpy.models import BayesianModel\n",
    "\n",
    "model_struct = BayesianModel(ebunch=alarm_model.edges())\n",
    "model_struct.nodes()"
   ]
  },
  {
   "cell_type": "markdown",
   "metadata": {},
   "source": [
    "### Step 3: Learning the model parameters "
   ]
  },
  {
   "cell_type": "code",
   "execution_count": 3,
   "metadata": {},
   "outputs": [
    {
     "name": "stdout",
     "output_type": "stream",
     "text": [
      "+--------------+---------+\n",
      "| FIO2(LOW)    | 0.05005 |\n",
      "+--------------+---------+\n",
      "| FIO2(NORMAL) | 0.94995 |\n",
      "+--------------+---------+\n",
      "+-------------+----------------------+----------------------+----------------------+\n",
      "| LVEDVOLUME  | LVEDVOLUME(HIGH)     | LVEDVOLUME(LOW)      | LVEDVOLUME(NORMAL)   |\n",
      "+-------------+----------------------+----------------------+----------------------+\n",
      "| CVP(HIGH)   | 0.6989774078478003   | 0.011237205162438807 | 0.00951605298126795  |\n",
      "+-------------+----------------------+----------------------+----------------------+\n",
      "| CVP(LOW)    | 0.009845422116527943 | 0.9506008010680908   | 0.038807207052738366 |\n",
      "+-------------+----------------------+----------------------+----------------------+\n",
      "| CVP(NORMAL) | 0.29117717003567184  | 0.0381619937694704   | 0.9516767399659937   |\n",
      "+-------------+----------------------+----------------------+----------------------+\n"
     ]
    },
    {
     "data": {
      "text/plain": [
       "[<TabularCPD representing P(ANAPHYLAXIS:2) at 0x7f14727362e8>,\n",
       " <TabularCPD representing P(ARTCO2:3 | VENTALV:4) at 0x7f1471306048>,\n",
       " <TabularCPD representing P(BP:3 | CO:3, TPR:3) at 0x7f1471306f28>,\n",
       " <TabularCPD representing P(CATECHOL:2 | ARTCO2:3, INSUFFANESTH:2, SAO2:3, TPR:3) at 0x7f1471306a20>,\n",
       " <TabularCPD representing P(CO:3 | HR:3, STROKEVOLUME:3) at 0x7f1471306fd0>,\n",
       " <TabularCPD representing P(CVP:3 | LVEDVOLUME:3) at 0x7f1471306630>,\n",
       " <TabularCPD representing P(DISCONNECT:2) at 0x7f1471306e48>,\n",
       " <TabularCPD representing P(ERRCAUTER:2) at 0x7f1471306dd8>,\n",
       " <TabularCPD representing P(ERRLOWOUTPUT:2) at 0x7f1471306320>,\n",
       " <TabularCPD representing P(EXPCO2:4 | ARTCO2:3, VENTLUNG:4) at 0x7f14712b8160>]"
      ]
     },
     "execution_count": 3,
     "metadata": {},
     "output_type": "execute_result"
    }
   ],
   "source": [
    "# Fitting the model using Maximum Likelihood Estimator\n",
    "\n",
    "from pgmpy.estimators import MaximumLikelihoodEstimator\n",
    "\n",
    "mle = MaximumLikelihoodEstimator(model=model_struct, data=samples)\n",
    "\n",
    "# Estimating the CPD for a single node.\n",
    "print(mle.estimate_cpd(node='FIO2'))\n",
    "print(mle.estimate_cpd(node='CVP'))\n",
    "\n",
    "# Estimating CPDs for all the nodes in the model\n",
    "mle.get_parameters()[:10] # Show just the first 10 CPDs in the output"
   ]
  },
  {
   "cell_type": "code",
   "execution_count": 4,
   "metadata": {},
   "outputs": [
    {
     "data": {
      "text/plain": [
       "True"
      ]
     },
     "execution_count": 4,
     "metadata": {},
     "output_type": "execute_result"
    }
   ],
   "source": [
    "# Verifying that the learned parameters are almost equal.\n",
    "np.allclose(alarm_model.get_cpds('FIO2').values, mle.estimate_cpd('FIO2').values, atol=0.01)"
   ]
  },
  {
   "cell_type": "code",
   "execution_count": 5,
   "metadata": {},
   "outputs": [
    {
     "name": "stdout",
     "output_type": "stream",
     "text": [
      "+--------------+----------+\n",
      "| FIO2(LOW)    | 0.054505 |\n",
      "+--------------+----------+\n",
      "| FIO2(NORMAL) | 0.945495 |\n",
      "+--------------+----------+\n",
      "+-------------+----------------------+----------------------+----------------------+\n",
      "| LVEDVOLUME  | LVEDVOLUME(HIGH)     | LVEDVOLUME(LOW)      | LVEDVOLUME(NORMAL)   |\n",
      "+-------------+----------------------+----------------------+----------------------+\n",
      "| CVP(HIGH)   | 0.6938335287221571   | 0.021640826873385012 | 0.010898174626886907 |\n",
      "+-------------+----------------------+----------------------+----------------------+\n",
      "| CVP(LOW)    | 0.014396248534583822 | 0.9306632213608957   | 0.04006430776672784  |\n",
      "+-------------+----------------------+----------------------+----------------------+\n",
      "| CVP(NORMAL) | 0.2917702227432591   | 0.04769595176571921  | 0.9490375176063852   |\n",
      "+-------------+----------------------+----------------------+----------------------+\n"
     ]
    },
    {
     "data": {
      "text/plain": [
       "[<TabularCPD representing P(HYPOVOLEMIA:2) at 0x7f1472736e10>,\n",
       " <TabularCPD representing P(LVEDVOLUME:3 | HYPOVOLEMIA:2, LVFAILURE:2) at 0x7f147128b898>,\n",
       " <TabularCPD representing P(STROKEVOLUME:3 | HYPOVOLEMIA:2, LVFAILURE:2) at 0x7f147128bb70>,\n",
       " <TabularCPD representing P(CVP:3 | LVEDVOLUME:3) at 0x7f147128bbe0>,\n",
       " <TabularCPD representing P(PCWP:3 | LVEDVOLUME:3) at 0x7f147128b9e8>,\n",
       " <TabularCPD representing P(LVFAILURE:2) at 0x7f147128bc18>,\n",
       " <TabularCPD representing P(HISTORY:2 | LVFAILURE:2) at 0x7f147128bfd0>,\n",
       " <TabularCPD representing P(CO:3 | HR:3, STROKEVOLUME:3) at 0x7f147128bef0>,\n",
       " <TabularCPD representing P(ERRLOWOUTPUT:2) at 0x7f147128b6a0>,\n",
       " <TabularCPD representing P(HRBP:3 | ERRLOWOUTPUT:2, HR:3) at 0x7f147128b5f8>]"
      ]
     },
     "execution_count": 5,
     "metadata": {},
     "output_type": "execute_result"
    }
   ],
   "source": [
    "# Fitting the using Bayesian Estimator\n",
    "from pgmpy.estimators import BayesianEstimator\n",
    "\n",
    "best = BayesianEstimator(model=model_struct, data=samples)\n",
    "\n",
    "print(best.estimate_cpd(node='FIO2', prior_type=\"BDeu\", equivalent_sample_size=1000))\n",
    "# Uniform pseudo count for each state. Can also accept an array of the size of CPD.\n",
    "print(best.estimate_cpd(node='CVP', prior_type=\"dirichlet\", pseudo_counts=100))\n",
    "\n",
    "# Learning CPDs for all the nodes in the model. For learning all parameters with BDeU prior, a dict of\n",
    "# pseudo_counts need to be provided\n",
    "best.get_parameters(prior_type=\"BDeu\", equivalent_sample_size=1000)[:10]"
   ]
  },
  {
   "cell_type": "code",
   "execution_count": 7,
   "metadata": {},
   "outputs": [
    {
     "name": "stdout",
     "output_type": "stream",
     "text": [
      "+--------------+---------+\n",
      "| FIO2(LOW)    | 0.05005 |\n",
      "+--------------+---------+\n",
      "| FIO2(NORMAL) | 0.94995 |\n",
      "+--------------+---------+\n",
      "+--------------+----------+\n",
      "| FIO2(LOW)    | 0.054505 |\n",
      "+--------------+----------+\n",
      "| FIO2(NORMAL) | 0.945495 |\n",
      "+--------------+----------+\n"
     ]
    }
   ],
   "source": [
    "# Shortcut for learning all the parameters and adding the CPDs to the model.\n",
    "\n",
    "model_struct = BayesianModel(ebunch=alarm_model.edges())\n",
    "model_struct.fit(data=samples, estimator=MaximumLikelihoodEstimator)\n",
    "print(model_struct.get_cpds('FIO2'))\n",
    "\n",
    "model_struct = BayesianModel(ebunch=alarm_model.edges())\n",
    "model_struct.fit(data=samples, estimator=BayesianEstimator, prior_type='BDeu', equivalent_sample_size=1000)\n",
    "print(model_struct.get_cpds('FIO2'))"
   ]
  }
 ],
 "metadata": {
  "anaconda-cloud": {},
  "kernelspec": {
   "display_name": "Python 3",
   "language": "python",
   "name": "python3"
  },
  "language_info": {
   "codemirror_mode": {
    "name": "ipython",
    "version": 3
   },
   "file_extension": ".py",
   "mimetype": "text/x-python",
   "name": "python",
   "nbconvert_exporter": "python",
   "pygments_lexer": "ipython3",
   "version": "3.7.0"
  }
 },
 "nbformat": 4,
 "nbformat_minor": 1
}
